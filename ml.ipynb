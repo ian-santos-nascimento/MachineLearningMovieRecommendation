{
 "cells": [
  {
   "cell_type": "markdown",
   "source": [
    "## ML model for movie recommendation based on user input of film. Uses NearestNeighbor to determine the closest movie based on genres of the given movie input"
   ],
   "metadata": {
    "collapsed": false
   },
   "id": "e35ca0b4fb9fecfc"
  },
  {
   "cell_type": "code",
   "execution_count": 84,
   "outputs": [
    {
     "name": "stdout",
     "output_type": "stream",
     "text": [
      "MultiIndex([(   1,                           'Toy Story (1995)', ...),\n",
      "            ( 924,               '2001: A Space Odyssey (1968)', ...),\n",
      "            (1073, 'Willy Wonka & the Chocolate Factory (1971)', ...),\n",
      "            (1240,                     'Terminator, The (1984)', ...),\n",
      "            (1028,                        'Mary Poppins (1964)', ...)],\n",
      "           names=['movieId', 'title', 'genres'])\n"
     ]
    }
   ],
   "source": [
    "import numpy as np\n",
    "import pandas as pd\n",
    "from scipy.sparse import csr_matrix\n",
    "from sklearn.metrics import mean_squared_error, mean_absolute_error\n",
    "from sklearn.model_selection import train_test_split\n",
    "from sklearn.neighbors import NearestNeighbors, KNeighborsRegressor\n",
    "from sklearn.preprocessing import MultiLabelBinarizer\n",
    "from sklearn.preprocessing import OneHotEncoder\n",
    "\n",
    "# Carregando os DataFrames a partir dos arquivos CSV\n",
    "movies = pd.read_csv('movies.csv')\n",
    "ratings = pd.read_csv('ratings.csv')\n",
    "\n",
    "# Merge dos dataframes\n",
    "merged_data = ratings.merge(movies, on='movieId')\n",
    "result = merged_data[['userId', 'movieId', 'title', 'genres', 'rating']]\n",
    "\n",
    "contagem_avaliacoes = result.groupby('userId').size().reset_index(name='qtd_avaliacoes')\n",
    "contagem_avaliacoes = contagem_avaliacoes.loc[contagem_avaliacoes['qtd_avaliacoes'] > 30]\n",
    "result = result[result['userId'].isin(contagem_avaliacoes['userId'])]\n",
    "\n",
    "filmes_avaliacoes = result.groupby('movieId').size().reset_index(name='qtd_avaliacoes')\n",
    "filmes_avaliacoes = filmes_avaliacoes.loc[filmes_avaliacoes['qtd_avaliacoes'] > 50]\n",
    "filmes_avaliacoes = filmes_avaliacoes.merge(result[['movieId', 'title', 'genres']], on='movieId', how='left').drop_duplicates()\n",
    "result = result[result['movieId'].isin(filmes_avaliacoes['movieId'])]\n",
    "\n",
    "mlb = MultiLabelBinarizer()\n",
    "genres_one_hot = mlb.fit_transform(result['genres'].str.split('|'))\n",
    "genres_one_hot_df = pd.DataFrame(genres_one_hot, columns=mlb.classes_, index=result.index)\n",
    "\n",
    "result_with_genres = pd.concat([result, genres_one_hot_df], axis=1)\n",
    "\n",
    "result_pivot = result_with_genres.pivot_table(index=['movieId','title', 'genres'], values='rating', fill_value=0)\n",
    "result_pivot.fillna(0.0, inplace=True)\n",
    "filmes_sparse = csr_matrix(result_pivot)\n",
    "# Criando e treinando o modelo preditivo\n",
    "modelo = NearestNeighbors(algorithm = 'brute')\n",
    "modelo.fit(filmes_sparse)\n",
    "#print(result_pivot.iloc[0]) #ToyStory\n",
    "distances, suggestions = modelo.kneighbors(result_pivot.iloc[0].values.reshape(1, -1))\n",
    "for i in range(len(suggestions)):\n",
    "    print(result_pivot.index[suggestions[i]])\n"
   ],
   "metadata": {
    "collapsed": false,
    "ExecuteTime": {
     "end_time": "2023-11-30T05:07:22.842358921Z",
     "start_time": "2023-11-30T05:07:22.687358334Z"
    }
   },
   "id": "38e8ef2485185916"
  },
  {
   "cell_type": "markdown",
   "source": [
    "## ML model for prediction of movie rating KNeighborsRegressor"
   ],
   "metadata": {
    "collapsed": false
   },
   "id": "4da4d7f19b5f6de0"
  },
  {
   "cell_type": "markdown",
   "source": [],
   "metadata": {
    "collapsed": false
   },
   "id": "899f9676adb320bd"
  },
  {
   "cell_type": "code",
   "execution_count": 1,
   "outputs": [
    {
     "name": "stdout",
     "output_type": "stream",
     "text": [
      "       rating\n",
      "0    3.483607\n",
      "1    3.518797\n",
      "2    3.466019\n",
      "3    3.703125\n",
      "4    3.888889\n",
      "..        ...\n",
      "334  3.540000\n",
      "335  3.306034\n",
      "336  3.475806\n",
      "337  3.711538\n",
      "338  3.539474\n",
      "\n",
      "[339 rows x 1 columns]\n",
      "Root Mean Squared Error (RMSE): 0.38576959914593606\n",
      "Mean Absolute Error (MAE): 0.3181010739912461\n"
     ]
    },
    {
     "name": "stderr",
     "output_type": "stream",
     "text": [
      "/home/ian/projetos/MACHINE_LEARNING/venv/lib/python3.10/site-packages/sklearn/preprocessing/_encoders.py:975: FutureWarning: `sparse` was renamed to `sparse_output` in version 1.2 and will be removed in 1.4. `sparse_output` is ignored unless you leave `sparse` to its default value.\n",
      "  warnings.warn(\n"
     ]
    }
   ],
   "source": [
    "import numpy as np\n",
    "import pandas as pd\n",
    "from scipy.sparse import csr_matrix\n",
    "from sklearn.metrics import mean_squared_error, mean_absolute_error\n",
    "from sklearn.model_selection import train_test_split\n",
    "from sklearn.neighbors import NearestNeighbors, KNeighborsRegressor\n",
    "from sklearn.preprocessing import MultiLabelBinarizer\n",
    "from sklearn.preprocessing import OneHotEncoder\n",
    "\n",
    "movies = pd.read_csv('movies.csv')\n",
    "ratings = pd.read_csv('ratings.csv')\n",
    "\n",
    "merged_data = ratings.merge(movies, on='movieId')\n",
    "result = merged_data[['userId', 'movieId', 'title', 'genres', 'rating']]\n",
    "\n",
    "contagem_avaliacoes = result.groupby('userId').size().reset_index(name='qtd_avaliacoes')\n",
    "contagem_avaliacoes = contagem_avaliacoes.loc[contagem_avaliacoes['qtd_avaliacoes'] > 30]\n",
    "result = result[result['userId'].isin(contagem_avaliacoes['userId'])]\n",
    "\n",
    "filmes_avaliacoes = result.groupby('movieId').size().reset_index(name='qtd_avaliacoes')\n",
    "filmes_avaliacoes = filmes_avaliacoes.loc[filmes_avaliacoes['qtd_avaliacoes'] > 50]\n",
    "filmes_avaliacoes = filmes_avaliacoes.merge(result[['movieId', 'title', 'genres']], on='movieId', how='left').drop_duplicates()\n",
    "result = result[result['movieId'].isin(filmes_avaliacoes['movieId'])]\n",
    "\n",
    "mlb = MultiLabelBinarizer()\n",
    "genres_one_hot = mlb.fit_transform(result['genres'].str.split('|'))\n",
    "genres_one_hot_df = pd.DataFrame(genres_one_hot, columns=mlb.classes_, index=result.index)\n",
    "\n",
    "result_with_genres = pd.concat([result, genres_one_hot_df], axis=1)\n",
    "\n",
    "result_pivot = result_with_genres.pivot_table(index=['movieId', 'genres'], values='rating', fill_value=0)\n",
    "result_pivot.fillna(0.0, inplace=True)\n",
    "\n",
    "filmes_sparse = csr_matrix(result_pivot)\n",
    "X_train, X_test, y_train, y_test = train_test_split(result_pivot.index, result_pivot.values, test_size=0.2, random_state=42)\n",
    "\n",
    "# Converting the MultiIndex to a DataFrame\n",
    "X_train_df = X_train.to_frame(index=False)\n",
    "X_test_df = X_test.to_frame(index=False)\n",
    "\n",
    "encoder = OneHotEncoder(sparse=False, handle_unknown='ignore')\n",
    "X_train_encoded = encoder.fit_transform(X_train_df)\n",
    "X_test_encoded = encoder.transform(X_test_df)\n",
    " \n",
    "y_train_df = pd.DataFrame(y_train, columns=['rating'])\n",
    "\n",
    "modelo = KNeighborsRegressor()\n",
    "modelo.fit(X_train_encoded, y_train_df)\n",
    "print(y_train_df)\n",
    "# Make predictions on the test set\n",
    "predictions = modelo.predict(X_test_encoded)\n",
    "\n",
    "# Calculate RMSE and MAE\n",
    "rmse = np.sqrt(mean_squared_error(y_test, predictions))\n",
    "mae = mean_absolute_error(y_test, predictions)\n",
    "print(f\"Root Mean Squared Error (RMSE): {rmse}\")\n",
    "print(f\"Mean Absolute Error (MAE): {mae}\")"
   ],
   "metadata": {
    "collapsed": false,
    "ExecuteTime": {
     "start_time": "2023-11-30T23:04:10.400811423Z"
    }
   },
   "id": "751e655c6791e9d0"
  }
 ],
 "metadata": {
  "kernelspec": {
   "display_name": "Python 3",
   "language": "python",
   "name": "python3"
  },
  "language_info": {
   "codemirror_mode": {
    "name": "ipython",
    "version": 2
   },
   "file_extension": ".py",
   "mimetype": "text/x-python",
   "name": "python",
   "nbconvert_exporter": "python",
   "pygments_lexer": "ipython2",
   "version": "2.7.6"
  }
 },
 "nbformat": 4,
 "nbformat_minor": 5
}
